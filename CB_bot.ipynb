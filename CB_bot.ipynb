{
 "cells": [
  {
   "cell_type": "code",
   "execution_count": null,
   "metadata": {},
   "outputs": [],
   "source": [
    "import bot as bot\n",
    "'''\n",
    "print('BETHER vs. ETH')\n",
    "print('*********************************')\n",
    "print(bot.get_ticker('BETHERETH'))\n",
    "print('ETH vs. USDT')\n",
    "print('*********************************')\n",
    "print(bot.get_ticker('ETHUSDT'))\n",
    "'''\n",
    "print(bot.get_balance())"
   ]
  },
  {
   "cell_type": "code",
   "execution_count": null,
   "metadata": {},
   "outputs": [],
   "source": [
    "BETHERETH = bot.get_ticker('BETHERETH')\n",
    "ETHUSDT = bot.get_ticker('ETHUSDT')\n",
    "\n",
    "\n",
    "\n",
    "lastBetherPrice = BETHERETH['last']\n",
    "lastETHPrice = ETHUSDT['last']\n",
    "\n",
    "print(lastBetherPrice)\n",
    "print(lastETHPrice)\n",
    "\n",
    "actualInUSD = float(lastBetherPrice) * float(lastETHPrice)\n",
    "\n",
    "portfolioAMount = 1700000\n",
    "\n",
    "portfolioPrice = float(portfolioAMount) * float(actualInUSD)\n",
    "\n",
    "print(portfolioPrice)"
   ]
  },
  {
   "cell_type": "code",
   "execution_count": null,
   "metadata": {},
   "outputs": [],
   "source": []
  },
  {
   "cell_type": "code",
   "execution_count": null,
   "metadata": {},
   "outputs": [],
   "source": []
  }
 ],
 "metadata": {
  "kernelspec": {
   "display_name": "Python 3",
   "language": "python",
   "name": "python3"
  },
  "language_info": {
   "codemirror_mode": {
    "name": "ipython",
    "version": 3
   },
   "file_extension": ".py",
   "mimetype": "text/x-python",
   "name": "python",
   "nbconvert_exporter": "python",
   "pygments_lexer": "ipython3",
   "version": "3.7.2"
  }
 },
 "nbformat": 4,
 "nbformat_minor": 2
}
