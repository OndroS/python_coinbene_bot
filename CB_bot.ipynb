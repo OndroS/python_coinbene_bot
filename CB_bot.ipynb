{
 "cells": [
  {
   "cell_type": "code",
   "execution_count": 10,
   "metadata": {},
   "outputs": [
    {
     "name": "stdout",
     "output_type": "stream",
     "text": [
      "BETHER vs. ETH\n",
      "*********************************\n",
      "{'symbol': 'BETHERETH', '24hrHigh': '0.00000990', 'last': '0.00000711', '24hrVol': '21889039.72', 'ask': '0.00000782', '24hrLow': '0.00000701', 'bid': '0.00000711', '24hrAmt': '171.32539129'}\n",
      "ETH vs. USDT\n",
      "*********************************\n",
      "{'symbol': 'ETHUSDT', '24hrHigh': '150.00', 'last': '147.71', '24hrVol': '33207.28', 'ask': '147.64', '24hrLow': '146.00', 'bid': '147.6', '24hrAmt': '4904143.22'}\n"
     ]
    }
   ],
   "source": [
    "import bot as bot\n",
    "\n",
    "print('BETHER vs. ETH')\n",
    "print('*********************************')\n",
    "print(bot.get_ticker('BETHERETH'))\n",
    "print('ETH vs. USDT')\n",
    "print('*********************************')\n",
    "print(bot.get_ticker('ETHUSDT'))"
   ]
  },
  {
   "cell_type": "code",
   "execution_count": 11,
   "metadata": {},
   "outputs": [
    {
     "name": "stdout",
     "output_type": "stream",
     "text": [
      "0.00000747\n",
      "147.71\n",
      "Actual BETHER Price 0.0011033937\n",
      "Actual Portfolio Price 1875.7692900000002\n",
      "Desired Portfolio Price 375869.1874\n"
     ]
    }
   ],
   "source": [
    "BETHERETH = bot.get_ticker('BETHERETH')\n",
    "ETHUSDT = bot.get_ticker('ETHUSDT')\n",
    "\n",
    "\n",
    "\n",
    "lastBetherPrice = BETHERETH['last']\n",
    "lastETHPrice = ETHUSDT['last']\n",
    "\n",
    "print(lastBetherPrice)\n",
    "print(lastETHPrice)\n",
    "\n",
    "actualInUSD = float(lastBetherPrice) * float(lastETHPrice)\n",
    "\n",
    "portfolioAMount = 1700000\n",
    "\n",
    "portfolioPrice = float(portfolioAMount) * float(actualInUSD)\n",
    "\n",
    "print(\"Actual BETHER Price \" + str(actualInUSD))\n",
    "print(\"Actual Portfolio Price \" + str(portfolioPrice))\n",
    "\n",
    "desiredPrice = 0.221099522\n",
    "\n",
    "print(\"Desired Portfolio Price \" + str(float(portfolioAMount) * float(desiredPrice)))"
   ]
  },
  {
   "cell_type": "code",
   "execution_count": null,
   "metadata": {},
   "outputs": [],
   "source": []
  },
  {
   "cell_type": "code",
   "execution_count": null,
   "metadata": {},
   "outputs": [],
   "source": []
  }
 ],
 "metadata": {
  "kernelspec": {
   "display_name": "Python 3",
   "language": "python",
   "name": "python3"
  },
  "language_info": {
   "codemirror_mode": {
    "name": "ipython",
    "version": 3
   },
   "file_extension": ".py",
   "mimetype": "text/x-python",
   "name": "python",
   "nbconvert_exporter": "python",
   "pygments_lexer": "ipython3",
   "version": "3.7.2"
  }
 },
 "nbformat": 4,
 "nbformat_minor": 2
}
